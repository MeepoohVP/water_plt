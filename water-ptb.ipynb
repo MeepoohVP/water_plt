{
 "cells": [
  {
   "cell_type": "code",
   "execution_count": 1,
   "id": "c564c7d2",
   "metadata": {
    "execution": {
     "iopub.execute_input": "2022-12-07T17:13:49.945877Z",
     "iopub.status.busy": "2022-12-07T17:13:49.945447Z",
     "iopub.status.idle": "2022-12-07T17:13:50.939422Z",
     "shell.execute_reply": "2022-12-07T17:13:50.937756Z"
    },
    "papermill": {
     "duration": 1.00406,
     "end_time": "2022-12-07T17:13:50.943480",
     "exception": false,
     "start_time": "2022-12-07T17:13:49.939420",
     "status": "completed"
    },
    "tags": []
   },
   "outputs": [],
   "source": [
    "from sklearn.tree import DecisionTreeRegressor\n",
    "import pandas as pd\n",
    "from sklearn.metrics import mean_absolute_error\n",
    "from sklearn.model_selection import train_test_split\n",
    "from sklearn import linear_model\n",
    "import numpy as np \n",
    "import matplotlib.pyplot as plt"
   ]
  },
  {
   "cell_type": "code",
   "execution_count": 2,
   "id": "2aabb902",
   "metadata": {
    "execution": {
     "iopub.execute_input": "2022-12-07T17:13:50.955603Z",
     "iopub.status.busy": "2022-12-07T17:13:50.955130Z",
     "iopub.status.idle": "2022-12-07T17:13:51.009169Z",
     "shell.execute_reply": "2022-12-07T17:13:51.008117Z"
    },
    "papermill": {
     "duration": 0.063337,
     "end_time": "2022-12-07T17:13:51.012354",
     "exception": false,
     "start_time": "2022-12-07T17:13:50.949017",
     "status": "completed"
    },
    "tags": []
   },
   "outputs": [
    {
     "data": {
      "text/html": [
       "<div>\n",
       "<style scoped>\n",
       "    .dataframe tbody tr th:only-of-type {\n",
       "        vertical-align: middle;\n",
       "    }\n",
       "\n",
       "    .dataframe tbody tr th {\n",
       "        vertical-align: top;\n",
       "    }\n",
       "\n",
       "    .dataframe thead th {\n",
       "        text-align: right;\n",
       "    }\n",
       "</style>\n",
       "<table border=\"1\" class=\"dataframe\">\n",
       "  <thead>\n",
       "    <tr style=\"text-align: right;\">\n",
       "      <th></th>\n",
       "      <th>ph</th>\n",
       "      <th>Hardness</th>\n",
       "      <th>Solids</th>\n",
       "      <th>Chloramines</th>\n",
       "      <th>Sulfate</th>\n",
       "      <th>Conductivity</th>\n",
       "      <th>Organic_carbon</th>\n",
       "      <th>Trihalomethanes</th>\n",
       "      <th>Turbidity</th>\n",
       "      <th>Potability</th>\n",
       "    </tr>\n",
       "  </thead>\n",
       "  <tbody>\n",
       "    <tr>\n",
       "      <th>0</th>\n",
       "      <td>NaN</td>\n",
       "      <td>204.890455</td>\n",
       "      <td>20791.318981</td>\n",
       "      <td>7.300212</td>\n",
       "      <td>368.516441</td>\n",
       "      <td>564.308654</td>\n",
       "      <td>10.379783</td>\n",
       "      <td>86.990970</td>\n",
       "      <td>2.963135</td>\n",
       "      <td>0</td>\n",
       "    </tr>\n",
       "    <tr>\n",
       "      <th>1</th>\n",
       "      <td>3.716080</td>\n",
       "      <td>129.422921</td>\n",
       "      <td>18630.057858</td>\n",
       "      <td>6.635246</td>\n",
       "      <td>NaN</td>\n",
       "      <td>592.885359</td>\n",
       "      <td>15.180013</td>\n",
       "      <td>56.329076</td>\n",
       "      <td>4.500656</td>\n",
       "      <td>0</td>\n",
       "    </tr>\n",
       "    <tr>\n",
       "      <th>2</th>\n",
       "      <td>8.099124</td>\n",
       "      <td>224.236259</td>\n",
       "      <td>19909.541732</td>\n",
       "      <td>9.275884</td>\n",
       "      <td>NaN</td>\n",
       "      <td>418.606213</td>\n",
       "      <td>16.868637</td>\n",
       "      <td>66.420093</td>\n",
       "      <td>3.055934</td>\n",
       "      <td>0</td>\n",
       "    </tr>\n",
       "    <tr>\n",
       "      <th>3</th>\n",
       "      <td>8.316766</td>\n",
       "      <td>214.373394</td>\n",
       "      <td>22018.417441</td>\n",
       "      <td>8.059332</td>\n",
       "      <td>356.886136</td>\n",
       "      <td>363.266516</td>\n",
       "      <td>18.436524</td>\n",
       "      <td>100.341674</td>\n",
       "      <td>4.628771</td>\n",
       "      <td>0</td>\n",
       "    </tr>\n",
       "    <tr>\n",
       "      <th>4</th>\n",
       "      <td>9.092223</td>\n",
       "      <td>181.101509</td>\n",
       "      <td>17978.986339</td>\n",
       "      <td>6.546600</td>\n",
       "      <td>310.135738</td>\n",
       "      <td>398.410813</td>\n",
       "      <td>11.558279</td>\n",
       "      <td>31.997993</td>\n",
       "      <td>4.075075</td>\n",
       "      <td>0</td>\n",
       "    </tr>\n",
       "    <tr>\n",
       "      <th>...</th>\n",
       "      <td>...</td>\n",
       "      <td>...</td>\n",
       "      <td>...</td>\n",
       "      <td>...</td>\n",
       "      <td>...</td>\n",
       "      <td>...</td>\n",
       "      <td>...</td>\n",
       "      <td>...</td>\n",
       "      <td>...</td>\n",
       "      <td>...</td>\n",
       "    </tr>\n",
       "    <tr>\n",
       "      <th>3271</th>\n",
       "      <td>4.668102</td>\n",
       "      <td>193.681735</td>\n",
       "      <td>47580.991603</td>\n",
       "      <td>7.166639</td>\n",
       "      <td>359.948574</td>\n",
       "      <td>526.424171</td>\n",
       "      <td>13.894419</td>\n",
       "      <td>66.687695</td>\n",
       "      <td>4.435821</td>\n",
       "      <td>1</td>\n",
       "    </tr>\n",
       "    <tr>\n",
       "      <th>3272</th>\n",
       "      <td>7.808856</td>\n",
       "      <td>193.553212</td>\n",
       "      <td>17329.802160</td>\n",
       "      <td>8.061362</td>\n",
       "      <td>NaN</td>\n",
       "      <td>392.449580</td>\n",
       "      <td>19.903225</td>\n",
       "      <td>NaN</td>\n",
       "      <td>2.798243</td>\n",
       "      <td>1</td>\n",
       "    </tr>\n",
       "    <tr>\n",
       "      <th>3273</th>\n",
       "      <td>9.419510</td>\n",
       "      <td>175.762646</td>\n",
       "      <td>33155.578218</td>\n",
       "      <td>7.350233</td>\n",
       "      <td>NaN</td>\n",
       "      <td>432.044783</td>\n",
       "      <td>11.039070</td>\n",
       "      <td>69.845400</td>\n",
       "      <td>3.298875</td>\n",
       "      <td>1</td>\n",
       "    </tr>\n",
       "    <tr>\n",
       "      <th>3274</th>\n",
       "      <td>5.126763</td>\n",
       "      <td>230.603758</td>\n",
       "      <td>11983.869376</td>\n",
       "      <td>6.303357</td>\n",
       "      <td>NaN</td>\n",
       "      <td>402.883113</td>\n",
       "      <td>11.168946</td>\n",
       "      <td>77.488213</td>\n",
       "      <td>4.708658</td>\n",
       "      <td>1</td>\n",
       "    </tr>\n",
       "    <tr>\n",
       "      <th>3275</th>\n",
       "      <td>7.874671</td>\n",
       "      <td>195.102299</td>\n",
       "      <td>17404.177061</td>\n",
       "      <td>7.509306</td>\n",
       "      <td>NaN</td>\n",
       "      <td>327.459760</td>\n",
       "      <td>16.140368</td>\n",
       "      <td>78.698446</td>\n",
       "      <td>2.309149</td>\n",
       "      <td>1</td>\n",
       "    </tr>\n",
       "  </tbody>\n",
       "</table>\n",
       "<p>3276 rows × 10 columns</p>\n",
       "</div>"
      ],
      "text/plain": [
       "            ph    Hardness        Solids  Chloramines     Sulfate  \\\n",
       "0          NaN  204.890455  20791.318981     7.300212  368.516441   \n",
       "1     3.716080  129.422921  18630.057858     6.635246         NaN   \n",
       "2     8.099124  224.236259  19909.541732     9.275884         NaN   \n",
       "3     8.316766  214.373394  22018.417441     8.059332  356.886136   \n",
       "4     9.092223  181.101509  17978.986339     6.546600  310.135738   \n",
       "...        ...         ...           ...          ...         ...   \n",
       "3271  4.668102  193.681735  47580.991603     7.166639  359.948574   \n",
       "3272  7.808856  193.553212  17329.802160     8.061362         NaN   \n",
       "3273  9.419510  175.762646  33155.578218     7.350233         NaN   \n",
       "3274  5.126763  230.603758  11983.869376     6.303357         NaN   \n",
       "3275  7.874671  195.102299  17404.177061     7.509306         NaN   \n",
       "\n",
       "      Conductivity  Organic_carbon  Trihalomethanes  Turbidity  Potability  \n",
       "0       564.308654       10.379783        86.990970   2.963135           0  \n",
       "1       592.885359       15.180013        56.329076   4.500656           0  \n",
       "2       418.606213       16.868637        66.420093   3.055934           0  \n",
       "3       363.266516       18.436524       100.341674   4.628771           0  \n",
       "4       398.410813       11.558279        31.997993   4.075075           0  \n",
       "...            ...             ...              ...        ...         ...  \n",
       "3271    526.424171       13.894419        66.687695   4.435821           1  \n",
       "3272    392.449580       19.903225              NaN   2.798243           1  \n",
       "3273    432.044783       11.039070        69.845400   3.298875           1  \n",
       "3274    402.883113       11.168946        77.488213   4.708658           1  \n",
       "3275    327.459760       16.140368        78.698446   2.309149           1  \n",
       "\n",
       "[3276 rows x 10 columns]"
      ]
     },
     "execution_count": 2,
     "metadata": {},
     "output_type": "execute_result"
    }
   ],
   "source": [
    "water_data = pd.read_csv('/kaggle/input/water-potability/water_potability.csv')\n",
    "water_data"
   ]
  },
  {
   "cell_type": "code",
   "execution_count": 3,
   "id": "8b8b5853",
   "metadata": {
    "execution": {
     "iopub.execute_input": "2022-12-07T17:13:51.021974Z",
     "iopub.status.busy": "2022-12-07T17:13:51.021535Z",
     "iopub.status.idle": "2022-12-07T17:13:51.029500Z",
     "shell.execute_reply": "2022-12-07T17:13:51.028620Z"
    },
    "papermill": {
     "duration": 0.015054,
     "end_time": "2022-12-07T17:13:51.031625",
     "exception": false,
     "start_time": "2022-12-07T17:13:51.016571",
     "status": "completed"
    },
    "tags": []
   },
   "outputs": [
    {
     "data": {
      "text/plain": [
       "ph                 491\n",
       "Hardness             0\n",
       "Solids               0\n",
       "Chloramines          0\n",
       "Sulfate            781\n",
       "Conductivity         0\n",
       "Organic_carbon       0\n",
       "Trihalomethanes    162\n",
       "Turbidity            0\n",
       "Potability           0\n",
       "dtype: int64"
      ]
     },
     "execution_count": 3,
     "metadata": {},
     "output_type": "execute_result"
    }
   ],
   "source": [
    "# ตรวจสอบจำนวนค่าว่าง\n",
    "water_data.isnull().sum()"
   ]
  },
  {
   "cell_type": "code",
   "execution_count": 4,
   "id": "05d791cc",
   "metadata": {
    "execution": {
     "iopub.execute_input": "2022-12-07T17:13:51.040708Z",
     "iopub.status.busy": "2022-12-07T17:13:51.040452Z",
     "iopub.status.idle": "2022-12-07T17:13:51.046923Z",
     "shell.execute_reply": "2022-12-07T17:13:51.046069Z"
    },
    "papermill": {
     "duration": 0.013231,
     "end_time": "2022-12-07T17:13:51.048810",
     "exception": false,
     "start_time": "2022-12-07T17:13:51.035579",
     "status": "completed"
    },
    "tags": []
   },
   "outputs": [
    {
     "data": {
      "text/plain": [
       "ph                 float64\n",
       "Hardness           float64\n",
       "Solids             float64\n",
       "Chloramines        float64\n",
       "Sulfate            float64\n",
       "Conductivity       float64\n",
       "Organic_carbon     float64\n",
       "Trihalomethanes    float64\n",
       "Turbidity          float64\n",
       "Potability           int64\n",
       "dtype: object"
      ]
     },
     "execution_count": 4,
     "metadata": {},
     "output_type": "execute_result"
    }
   ],
   "source": [
    "water_data.dtypes"
   ]
  },
  {
   "cell_type": "markdown",
   "id": "3946f456",
   "metadata": {
    "papermill": {
     "duration": 0.003849,
     "end_time": "2022-12-07T17:13:51.056555",
     "exception": false,
     "start_time": "2022-12-07T17:13:51.052706",
     "status": "completed"
    },
    "tags": []
   },
   "source": [
    "# > **จัดการค่าว่างด้วยการลบแถวที่มีค่าว่างออก**"
   ]
  },
  {
   "cell_type": "markdown",
   "id": "2b68ff5f",
   "metadata": {
    "papermill": {
     "duration": 0.003712,
     "end_time": "2022-12-07T17:13:51.065547",
     "exception": false,
     "start_time": "2022-12-07T17:13:51.061835",
     "status": "completed"
    },
    "tags": []
   },
   "source": [
    "เหลือข้อมูล 2011 แถว จาก 3276"
   ]
  },
  {
   "cell_type": "code",
   "execution_count": 5,
   "id": "72899bd3",
   "metadata": {
    "execution": {
     "iopub.execute_input": "2022-12-07T17:13:51.075812Z",
     "iopub.status.busy": "2022-12-07T17:13:51.074329Z",
     "iopub.status.idle": "2022-12-07T17:13:51.096348Z",
     "shell.execute_reply": "2022-12-07T17:13:51.095397Z"
    },
    "papermill": {
     "duration": 0.029282,
     "end_time": "2022-12-07T17:13:51.098777",
     "exception": false,
     "start_time": "2022-12-07T17:13:51.069495",
     "status": "completed"
    },
    "tags": []
   },
   "outputs": [
    {
     "data": {
      "text/html": [
       "<div>\n",
       "<style scoped>\n",
       "    .dataframe tbody tr th:only-of-type {\n",
       "        vertical-align: middle;\n",
       "    }\n",
       "\n",
       "    .dataframe tbody tr th {\n",
       "        vertical-align: top;\n",
       "    }\n",
       "\n",
       "    .dataframe thead th {\n",
       "        text-align: right;\n",
       "    }\n",
       "</style>\n",
       "<table border=\"1\" class=\"dataframe\">\n",
       "  <thead>\n",
       "    <tr style=\"text-align: right;\">\n",
       "      <th></th>\n",
       "      <th>ph</th>\n",
       "      <th>Hardness</th>\n",
       "      <th>Solids</th>\n",
       "      <th>Chloramines</th>\n",
       "      <th>Sulfate</th>\n",
       "      <th>Conductivity</th>\n",
       "      <th>Organic_carbon</th>\n",
       "      <th>Trihalomethanes</th>\n",
       "      <th>Turbidity</th>\n",
       "      <th>Potability</th>\n",
       "    </tr>\n",
       "  </thead>\n",
       "  <tbody>\n",
       "    <tr>\n",
       "      <th>3</th>\n",
       "      <td>8.316766</td>\n",
       "      <td>214.373394</td>\n",
       "      <td>22018.417441</td>\n",
       "      <td>8.059332</td>\n",
       "      <td>356.886136</td>\n",
       "      <td>363.266516</td>\n",
       "      <td>18.436524</td>\n",
       "      <td>100.341674</td>\n",
       "      <td>4.628771</td>\n",
       "      <td>0</td>\n",
       "    </tr>\n",
       "    <tr>\n",
       "      <th>4</th>\n",
       "      <td>9.092223</td>\n",
       "      <td>181.101509</td>\n",
       "      <td>17978.986339</td>\n",
       "      <td>6.546600</td>\n",
       "      <td>310.135738</td>\n",
       "      <td>398.410813</td>\n",
       "      <td>11.558279</td>\n",
       "      <td>31.997993</td>\n",
       "      <td>4.075075</td>\n",
       "      <td>0</td>\n",
       "    </tr>\n",
       "    <tr>\n",
       "      <th>5</th>\n",
       "      <td>5.584087</td>\n",
       "      <td>188.313324</td>\n",
       "      <td>28748.687739</td>\n",
       "      <td>7.544869</td>\n",
       "      <td>326.678363</td>\n",
       "      <td>280.467916</td>\n",
       "      <td>8.399735</td>\n",
       "      <td>54.917862</td>\n",
       "      <td>2.559708</td>\n",
       "      <td>0</td>\n",
       "    </tr>\n",
       "    <tr>\n",
       "      <th>6</th>\n",
       "      <td>10.223862</td>\n",
       "      <td>248.071735</td>\n",
       "      <td>28749.716544</td>\n",
       "      <td>7.513408</td>\n",
       "      <td>393.663396</td>\n",
       "      <td>283.651634</td>\n",
       "      <td>13.789695</td>\n",
       "      <td>84.603556</td>\n",
       "      <td>2.672989</td>\n",
       "      <td>0</td>\n",
       "    </tr>\n",
       "    <tr>\n",
       "      <th>7</th>\n",
       "      <td>8.635849</td>\n",
       "      <td>203.361523</td>\n",
       "      <td>13672.091764</td>\n",
       "      <td>4.563009</td>\n",
       "      <td>303.309771</td>\n",
       "      <td>474.607645</td>\n",
       "      <td>12.363817</td>\n",
       "      <td>62.798309</td>\n",
       "      <td>4.401425</td>\n",
       "      <td>0</td>\n",
       "    </tr>\n",
       "    <tr>\n",
       "      <th>...</th>\n",
       "      <td>...</td>\n",
       "      <td>...</td>\n",
       "      <td>...</td>\n",
       "      <td>...</td>\n",
       "      <td>...</td>\n",
       "      <td>...</td>\n",
       "      <td>...</td>\n",
       "      <td>...</td>\n",
       "      <td>...</td>\n",
       "      <td>...</td>\n",
       "    </tr>\n",
       "    <tr>\n",
       "      <th>3267</th>\n",
       "      <td>8.989900</td>\n",
       "      <td>215.047358</td>\n",
       "      <td>15921.412018</td>\n",
       "      <td>6.297312</td>\n",
       "      <td>312.931022</td>\n",
       "      <td>390.410231</td>\n",
       "      <td>9.899115</td>\n",
       "      <td>55.069304</td>\n",
       "      <td>4.613843</td>\n",
       "      <td>1</td>\n",
       "    </tr>\n",
       "    <tr>\n",
       "      <th>3268</th>\n",
       "      <td>6.702547</td>\n",
       "      <td>207.321086</td>\n",
       "      <td>17246.920347</td>\n",
       "      <td>7.708117</td>\n",
       "      <td>304.510230</td>\n",
       "      <td>329.266002</td>\n",
       "      <td>16.217303</td>\n",
       "      <td>28.878601</td>\n",
       "      <td>3.442983</td>\n",
       "      <td>1</td>\n",
       "    </tr>\n",
       "    <tr>\n",
       "      <th>3269</th>\n",
       "      <td>11.491011</td>\n",
       "      <td>94.812545</td>\n",
       "      <td>37188.826022</td>\n",
       "      <td>9.263166</td>\n",
       "      <td>258.930600</td>\n",
       "      <td>439.893618</td>\n",
       "      <td>16.172755</td>\n",
       "      <td>41.558501</td>\n",
       "      <td>4.369264</td>\n",
       "      <td>1</td>\n",
       "    </tr>\n",
       "    <tr>\n",
       "      <th>3270</th>\n",
       "      <td>6.069616</td>\n",
       "      <td>186.659040</td>\n",
       "      <td>26138.780191</td>\n",
       "      <td>7.747547</td>\n",
       "      <td>345.700257</td>\n",
       "      <td>415.886955</td>\n",
       "      <td>12.067620</td>\n",
       "      <td>60.419921</td>\n",
       "      <td>3.669712</td>\n",
       "      <td>1</td>\n",
       "    </tr>\n",
       "    <tr>\n",
       "      <th>3271</th>\n",
       "      <td>4.668102</td>\n",
       "      <td>193.681735</td>\n",
       "      <td>47580.991603</td>\n",
       "      <td>7.166639</td>\n",
       "      <td>359.948574</td>\n",
       "      <td>526.424171</td>\n",
       "      <td>13.894419</td>\n",
       "      <td>66.687695</td>\n",
       "      <td>4.435821</td>\n",
       "      <td>1</td>\n",
       "    </tr>\n",
       "  </tbody>\n",
       "</table>\n",
       "<p>2011 rows × 10 columns</p>\n",
       "</div>"
      ],
      "text/plain": [
       "             ph    Hardness        Solids  Chloramines     Sulfate  \\\n",
       "3      8.316766  214.373394  22018.417441     8.059332  356.886136   \n",
       "4      9.092223  181.101509  17978.986339     6.546600  310.135738   \n",
       "5      5.584087  188.313324  28748.687739     7.544869  326.678363   \n",
       "6     10.223862  248.071735  28749.716544     7.513408  393.663396   \n",
       "7      8.635849  203.361523  13672.091764     4.563009  303.309771   \n",
       "...         ...         ...           ...          ...         ...   \n",
       "3267   8.989900  215.047358  15921.412018     6.297312  312.931022   \n",
       "3268   6.702547  207.321086  17246.920347     7.708117  304.510230   \n",
       "3269  11.491011   94.812545  37188.826022     9.263166  258.930600   \n",
       "3270   6.069616  186.659040  26138.780191     7.747547  345.700257   \n",
       "3271   4.668102  193.681735  47580.991603     7.166639  359.948574   \n",
       "\n",
       "      Conductivity  Organic_carbon  Trihalomethanes  Turbidity  Potability  \n",
       "3       363.266516       18.436524       100.341674   4.628771           0  \n",
       "4       398.410813       11.558279        31.997993   4.075075           0  \n",
       "5       280.467916        8.399735        54.917862   2.559708           0  \n",
       "6       283.651634       13.789695        84.603556   2.672989           0  \n",
       "7       474.607645       12.363817        62.798309   4.401425           0  \n",
       "...            ...             ...              ...        ...         ...  \n",
       "3267    390.410231        9.899115        55.069304   4.613843           1  \n",
       "3268    329.266002       16.217303        28.878601   3.442983           1  \n",
       "3269    439.893618       16.172755        41.558501   4.369264           1  \n",
       "3270    415.886955       12.067620        60.419921   3.669712           1  \n",
       "3271    526.424171       13.894419        66.687695   4.435821           1  \n",
       "\n",
       "[2011 rows x 10 columns]"
      ]
     },
     "execution_count": 5,
     "metadata": {},
     "output_type": "execute_result"
    }
   ],
   "source": [
    "water_data =  water_data.dropna()\n",
    "water_data"
   ]
  },
  {
   "cell_type": "code",
   "execution_count": 6,
   "id": "66d666f2",
   "metadata": {
    "execution": {
     "iopub.execute_input": "2022-12-07T17:13:51.108546Z",
     "iopub.status.busy": "2022-12-07T17:13:51.108297Z",
     "iopub.status.idle": "2022-12-07T17:13:51.116055Z",
     "shell.execute_reply": "2022-12-07T17:13:51.115200Z"
    },
    "papermill": {
     "duration": 0.014798,
     "end_time": "2022-12-07T17:13:51.117962",
     "exception": false,
     "start_time": "2022-12-07T17:13:51.103164",
     "status": "completed"
    },
    "tags": []
   },
   "outputs": [],
   "source": [
    "p = water_data[water_data['Potability'] == 1]\n",
    "n = water_data[water_data['Potability'] == 0]"
   ]
  },
  {
   "cell_type": "code",
   "execution_count": 7,
   "id": "738b6a53",
   "metadata": {
    "execution": {
     "iopub.execute_input": "2022-12-07T17:13:51.127770Z",
     "iopub.status.busy": "2022-12-07T17:13:51.127496Z",
     "iopub.status.idle": "2022-12-07T17:13:51.135746Z",
     "shell.execute_reply": "2022-12-07T17:13:51.134821Z"
    },
    "papermill": {
     "duration": 0.015165,
     "end_time": "2022-12-07T17:13:51.137648",
     "exception": false,
     "start_time": "2022-12-07T17:13:51.122483",
     "status": "completed"
    },
    "tags": []
   },
   "outputs": [],
   "source": [
    "X = water_data[['ph', 'Hardness', 'Solids', 'Chloramines', 'Sulfate', 'Conductivity',\n",
    "       'Organic_carbon', 'Trihalomethanes', 'Turbidity']]\n",
    "y = water_data['Potability']\n",
    "train_X, val_X, train_y, val_y = train_test_split(X, y, random_state = 0)"
   ]
  },
  {
   "cell_type": "code",
   "execution_count": 8,
   "id": "d79a1ea0",
   "metadata": {
    "execution": {
     "iopub.execute_input": "2022-12-07T17:13:51.147373Z",
     "iopub.status.busy": "2022-12-07T17:13:51.147114Z",
     "iopub.status.idle": "2022-12-07T17:13:51.154083Z",
     "shell.execute_reply": "2022-12-07T17:13:51.153203Z"
    },
    "papermill": {
     "duration": 0.014591,
     "end_time": "2022-12-07T17:13:51.156542",
     "exception": false,
     "start_time": "2022-12-07T17:13:51.141951",
     "status": "completed"
    },
    "tags": []
   },
   "outputs": [
    {
     "data": {
      "text/plain": [
       "Index(['ph', 'Hardness', 'Solids', 'Chloramines', 'Sulfate', 'Conductivity',\n",
       "       'Organic_carbon', 'Trihalomethanes', 'Turbidity', 'Potability'],\n",
       "      dtype='object')"
      ]
     },
     "execution_count": 8,
     "metadata": {},
     "output_type": "execute_result"
    }
   ],
   "source": [
    "water_data.columns"
   ]
  },
  {
   "cell_type": "code",
   "execution_count": 9,
   "id": "5b47831f",
   "metadata": {
    "execution": {
     "iopub.execute_input": "2022-12-07T17:13:51.166741Z",
     "iopub.status.busy": "2022-12-07T17:13:51.166486Z",
     "iopub.status.idle": "2022-12-07T17:13:51.186865Z",
     "shell.execute_reply": "2022-12-07T17:13:51.185657Z"
    },
    "papermill": {
     "duration": 0.027569,
     "end_time": "2022-12-07T17:13:51.188936",
     "exception": false,
     "start_time": "2022-12-07T17:13:51.161367",
     "status": "completed"
    },
    "tags": []
   },
   "outputs": [
    {
     "data": {
      "text/plain": [
       "DecisionTreeRegressor()"
      ]
     },
     "execution_count": 9,
     "metadata": {},
     "output_type": "execute_result"
    }
   ],
   "source": [
    "regr = DecisionTreeRegressor()\n",
    "regr.fit(train_X, train_y)"
   ]
  },
  {
   "cell_type": "code",
   "execution_count": 10,
   "id": "5ac5b0bd",
   "metadata": {
    "execution": {
     "iopub.execute_input": "2022-12-07T17:13:51.199158Z",
     "iopub.status.busy": "2022-12-07T17:13:51.198903Z",
     "iopub.status.idle": "2022-12-07T17:13:51.217418Z",
     "shell.execute_reply": "2022-12-07T17:13:51.216214Z"
    },
    "papermill": {
     "duration": 0.037456,
     "end_time": "2022-12-07T17:13:51.230763",
     "exception": false,
     "start_time": "2022-12-07T17:13:51.193307",
     "status": "completed"
    },
    "tags": []
   },
   "outputs": [
    {
     "data": {
      "text/html": [
       "<div>\n",
       "<style scoped>\n",
       "    .dataframe tbody tr th:only-of-type {\n",
       "        vertical-align: middle;\n",
       "    }\n",
       "\n",
       "    .dataframe tbody tr th {\n",
       "        vertical-align: top;\n",
       "    }\n",
       "\n",
       "    .dataframe thead th {\n",
       "        text-align: right;\n",
       "    }\n",
       "</style>\n",
       "<table border=\"1\" class=\"dataframe\">\n",
       "  <thead>\n",
       "    <tr style=\"text-align: right;\">\n",
       "      <th></th>\n",
       "      <th>ph</th>\n",
       "      <th>Hardness</th>\n",
       "      <th>Solids</th>\n",
       "      <th>Chloramines</th>\n",
       "      <th>Sulfate</th>\n",
       "      <th>Conductivity</th>\n",
       "      <th>Organic_carbon</th>\n",
       "      <th>Trihalomethanes</th>\n",
       "      <th>Turbidity</th>\n",
       "    </tr>\n",
       "  </thead>\n",
       "  <tbody>\n",
       "    <tr>\n",
       "      <th>367</th>\n",
       "      <td>6.505873</td>\n",
       "      <td>240.287912</td>\n",
       "      <td>29534.690292</td>\n",
       "      <td>6.775277</td>\n",
       "      <td>341.728239</td>\n",
       "      <td>265.251199</td>\n",
       "      <td>13.570223</td>\n",
       "      <td>93.166465</td>\n",
       "      <td>4.497529</td>\n",
       "    </tr>\n",
       "    <tr>\n",
       "      <th>1985</th>\n",
       "      <td>6.266800</td>\n",
       "      <td>187.829617</td>\n",
       "      <td>27577.213623</td>\n",
       "      <td>9.141597</td>\n",
       "      <td>322.917848</td>\n",
       "      <td>277.050802</td>\n",
       "      <td>13.290252</td>\n",
       "      <td>59.454325</td>\n",
       "      <td>3.652845</td>\n",
       "    </tr>\n",
       "    <tr>\n",
       "      <th>2962</th>\n",
       "      <td>8.527142</td>\n",
       "      <td>217.394778</td>\n",
       "      <td>3413.081633</td>\n",
       "      <td>5.670027</td>\n",
       "      <td>337.631073</td>\n",
       "      <td>615.611167</td>\n",
       "      <td>14.926751</td>\n",
       "      <td>82.590152</td>\n",
       "      <td>2.649424</td>\n",
       "    </tr>\n",
       "    <tr>\n",
       "      <th>710</th>\n",
       "      <td>5.251354</td>\n",
       "      <td>167.924336</td>\n",
       "      <td>34768.933420</td>\n",
       "      <td>4.023081</td>\n",
       "      <td>377.143489</td>\n",
       "      <td>315.536105</td>\n",
       "      <td>10.429159</td>\n",
       "      <td>70.593387</td>\n",
       "      <td>4.072252</td>\n",
       "    </tr>\n",
       "    <tr>\n",
       "      <th>1344</th>\n",
       "      <td>5.664846</td>\n",
       "      <td>186.648359</td>\n",
       "      <td>18678.950811</td>\n",
       "      <td>5.153873</td>\n",
       "      <td>313.083489</td>\n",
       "      <td>335.505521</td>\n",
       "      <td>17.551570</td>\n",
       "      <td>59.571837</td>\n",
       "      <td>3.570290</td>\n",
       "    </tr>\n",
       "    <tr>\n",
       "      <th>...</th>\n",
       "      <td>...</td>\n",
       "      <td>...</td>\n",
       "      <td>...</td>\n",
       "      <td>...</td>\n",
       "      <td>...</td>\n",
       "      <td>...</td>\n",
       "      <td>...</td>\n",
       "      <td>...</td>\n",
       "      <td>...</td>\n",
       "    </tr>\n",
       "    <tr>\n",
       "      <th>2385</th>\n",
       "      <td>7.608750</td>\n",
       "      <td>192.856644</td>\n",
       "      <td>25410.811872</td>\n",
       "      <td>5.955008</td>\n",
       "      <td>283.802967</td>\n",
       "      <td>432.209545</td>\n",
       "      <td>12.796347</td>\n",
       "      <td>81.103792</td>\n",
       "      <td>4.627464</td>\n",
       "    </tr>\n",
       "    <tr>\n",
       "      <th>2921</th>\n",
       "      <td>7.611982</td>\n",
       "      <td>190.662804</td>\n",
       "      <td>9138.029344</td>\n",
       "      <td>5.224256</td>\n",
       "      <td>329.580679</td>\n",
       "      <td>577.444713</td>\n",
       "      <td>17.209367</td>\n",
       "      <td>65.333241</td>\n",
       "      <td>6.494749</td>\n",
       "    </tr>\n",
       "    <tr>\n",
       "      <th>279</th>\n",
       "      <td>6.286807</td>\n",
       "      <td>258.300052</td>\n",
       "      <td>13777.376191</td>\n",
       "      <td>7.483258</td>\n",
       "      <td>328.680650</td>\n",
       "      <td>563.434775</td>\n",
       "      <td>16.460837</td>\n",
       "      <td>73.516654</td>\n",
       "      <td>4.104863</td>\n",
       "    </tr>\n",
       "    <tr>\n",
       "      <th>487</th>\n",
       "      <td>7.689358</td>\n",
       "      <td>221.356885</td>\n",
       "      <td>30253.851103</td>\n",
       "      <td>6.269309</td>\n",
       "      <td>320.478106</td>\n",
       "      <td>529.746529</td>\n",
       "      <td>17.973277</td>\n",
       "      <td>84.696366</td>\n",
       "      <td>4.978556</td>\n",
       "    </tr>\n",
       "    <tr>\n",
       "      <th>1301</th>\n",
       "      <td>3.433874</td>\n",
       "      <td>152.480075</td>\n",
       "      <td>16318.733614</td>\n",
       "      <td>5.973098</td>\n",
       "      <td>313.064316</td>\n",
       "      <td>412.915539</td>\n",
       "      <td>9.970144</td>\n",
       "      <td>68.507542</td>\n",
       "      <td>4.104938</td>\n",
       "    </tr>\n",
       "  </tbody>\n",
       "</table>\n",
       "<p>503 rows × 9 columns</p>\n",
       "</div>"
      ],
      "text/plain": [
       "            ph    Hardness        Solids  Chloramines     Sulfate  \\\n",
       "367   6.505873  240.287912  29534.690292     6.775277  341.728239   \n",
       "1985  6.266800  187.829617  27577.213623     9.141597  322.917848   \n",
       "2962  8.527142  217.394778   3413.081633     5.670027  337.631073   \n",
       "710   5.251354  167.924336  34768.933420     4.023081  377.143489   \n",
       "1344  5.664846  186.648359  18678.950811     5.153873  313.083489   \n",
       "...        ...         ...           ...          ...         ...   \n",
       "2385  7.608750  192.856644  25410.811872     5.955008  283.802967   \n",
       "2921  7.611982  190.662804   9138.029344     5.224256  329.580679   \n",
       "279   6.286807  258.300052  13777.376191     7.483258  328.680650   \n",
       "487   7.689358  221.356885  30253.851103     6.269309  320.478106   \n",
       "1301  3.433874  152.480075  16318.733614     5.973098  313.064316   \n",
       "\n",
       "      Conductivity  Organic_carbon  Trihalomethanes  Turbidity  \n",
       "367     265.251199       13.570223        93.166465   4.497529  \n",
       "1985    277.050802       13.290252        59.454325   3.652845  \n",
       "2962    615.611167       14.926751        82.590152   2.649424  \n",
       "710     315.536105       10.429159        70.593387   4.072252  \n",
       "1344    335.505521       17.551570        59.571837   3.570290  \n",
       "...            ...             ...              ...        ...  \n",
       "2385    432.209545       12.796347        81.103792   4.627464  \n",
       "2921    577.444713       17.209367        65.333241   6.494749  \n",
       "279     563.434775       16.460837        73.516654   4.104863  \n",
       "487     529.746529       17.973277        84.696366   4.978556  \n",
       "1301    412.915539        9.970144        68.507542   4.104938  \n",
       "\n",
       "[503 rows x 9 columns]"
      ]
     },
     "execution_count": 10,
     "metadata": {},
     "output_type": "execute_result"
    }
   ],
   "source": [
    "val_X"
   ]
  },
  {
   "cell_type": "code",
   "execution_count": 11,
   "id": "ad0fe1f4",
   "metadata": {
    "execution": {
     "iopub.execute_input": "2022-12-07T17:13:51.250026Z",
     "iopub.status.busy": "2022-12-07T17:13:51.249356Z",
     "iopub.status.idle": "2022-12-07T17:13:51.261183Z",
     "shell.execute_reply": "2022-12-07T17:13:51.259918Z"
    },
    "papermill": {
     "duration": 0.026152,
     "end_time": "2022-12-07T17:13:51.266041",
     "exception": false,
     "start_time": "2022-12-07T17:13:51.239889",
     "status": "completed"
    },
    "tags": []
   },
   "outputs": [],
   "source": [
    "predictions = regr.predict(val_X)"
   ]
  },
  {
   "cell_type": "markdown",
   "id": "e96d8108",
   "metadata": {
    "papermill": {
     "duration": 0.008956,
     "end_time": "2022-12-07T17:13:51.284958",
     "exception": false,
     "start_time": "2022-12-07T17:13:51.276002",
     "status": "completed"
    },
    "tags": []
   },
   "source": [
    "ความคาดเคลื่อน"
   ]
  },
  {
   "cell_type": "code",
   "execution_count": 12,
   "id": "14a47db1",
   "metadata": {
    "execution": {
     "iopub.execute_input": "2022-12-07T17:13:51.300840Z",
     "iopub.status.busy": "2022-12-07T17:13:51.300522Z",
     "iopub.status.idle": "2022-12-07T17:13:51.307325Z",
     "shell.execute_reply": "2022-12-07T17:13:51.306529Z"
    },
    "papermill": {
     "duration": 0.022495,
     "end_time": "2022-12-07T17:13:51.315186",
     "exception": false,
     "start_time": "2022-12-07T17:13:51.292691",
     "status": "completed"
    },
    "tags": []
   },
   "outputs": [
    {
     "data": {
      "text/plain": [
       "0.40755467196819084"
      ]
     },
     "execution_count": 12,
     "metadata": {},
     "output_type": "execute_result"
    }
   ],
   "source": [
    "mean_absolute_error(val_y, predictions)"
   ]
  },
  {
   "cell_type": "code",
   "execution_count": 13,
   "id": "1eaf00a1",
   "metadata": {
    "execution": {
     "iopub.execute_input": "2022-12-07T17:13:51.327215Z",
     "iopub.status.busy": "2022-12-07T17:13:51.326955Z",
     "iopub.status.idle": "2022-12-07T17:13:51.338843Z",
     "shell.execute_reply": "2022-12-07T17:13:51.338018Z"
    },
    "papermill": {
     "duration": 0.019662,
     "end_time": "2022-12-07T17:13:51.340843",
     "exception": false,
     "start_time": "2022-12-07T17:13:51.321181",
     "status": "completed"
    },
    "tags": []
   },
   "outputs": [
    {
     "data": {
      "text/plain": [
       "array([0., 0., 0., 1., 0., 0., 1., 1., 0., 1., 1., 0., 0., 0., 0., 0., 0.,\n",
       "       1., 0., 0., 0., 1., 1., 0., 0., 0., 1., 1., 0., 1., 1., 0., 0., 0.,\n",
       "       1., 1., 0., 0., 1., 1., 0., 0., 1., 0., 0., 0., 1., 1., 0., 0., 0.,\n",
       "       1., 0., 0., 0., 0., 0., 0., 1., 0., 0., 0., 1., 0., 0., 0., 1., 1.,\n",
       "       0., 1., 0., 1., 1., 1., 1., 1., 1., 0., 0., 0., 0., 1., 1., 0., 1.,\n",
       "       0., 1., 1., 1., 0., 0., 1., 0., 0., 1., 1., 0., 0., 0., 0., 0., 0.,\n",
       "       1., 1., 0., 1., 0., 0., 1., 0., 0., 0., 1., 0., 0., 1., 0., 0., 0.,\n",
       "       1., 0., 1., 0., 0., 0., 0., 0., 1., 0., 1., 0., 0., 0., 1., 0., 0.,\n",
       "       1., 0., 1., 0., 1., 1., 1., 0., 1., 1., 0., 0., 1., 0., 1., 1., 1.,\n",
       "       0., 0., 0., 1., 1., 1., 0., 0., 1., 1., 1., 0., 0., 0., 0., 1., 1.,\n",
       "       1., 0., 1., 1., 0., 0., 0., 0., 0., 1., 1., 0., 1., 0., 1., 0., 1.,\n",
       "       0., 0., 0., 1., 1., 1., 0., 0., 0., 0., 0., 0., 0., 0., 1., 0., 1.,\n",
       "       0., 0., 0., 1., 0., 1., 1., 0., 1., 0., 0., 0., 0., 0., 0., 1., 0.,\n",
       "       0., 1., 1., 1., 0., 0., 0., 1., 0., 1., 1., 0., 0., 1., 0., 1., 1.,\n",
       "       1., 0., 0., 1., 1., 0., 1., 0., 0., 0., 1., 0., 1., 1., 0., 1., 0.,\n",
       "       0., 1., 0., 1., 0., 0., 0., 1., 1., 0., 0., 0., 0., 0., 1., 0., 1.,\n",
       "       1., 1., 0., 1., 1., 0., 0., 1., 0., 1., 0., 0., 1., 1., 1., 1., 1.,\n",
       "       1., 0., 0., 1., 1., 1., 0., 0., 0., 0., 1., 0., 1., 0., 1., 1., 0.,\n",
       "       1., 0., 1., 0., 1., 0., 1., 0., 0., 0., 0., 0., 1., 0., 0., 0., 0.,\n",
       "       0., 0., 1., 1., 1., 0., 1., 0., 0., 0., 0., 1., 0., 0., 0., 0., 0.,\n",
       "       0., 1., 0., 0., 0., 0., 1., 0., 1., 1., 0., 0., 0., 1., 1., 1., 1.,\n",
       "       1., 1., 0., 0., 0., 0., 0., 1., 1., 0., 0., 0., 0., 0., 1., 1., 0.,\n",
       "       1., 0., 0., 1., 1., 1., 1., 1., 0., 1., 1., 1., 1., 0., 0., 1., 0.,\n",
       "       0., 0., 0., 1., 1., 0., 0., 0., 1., 1., 0., 1., 1., 1., 1., 0., 1.,\n",
       "       0., 0., 1., 0., 0., 1., 1., 0., 1., 1., 1., 0., 1., 1., 0., 1., 1.,\n",
       "       0., 1., 1., 0., 0., 0., 0., 1., 0., 1., 0., 0., 1., 0., 1., 1., 1.,\n",
       "       1., 1., 1., 1., 0., 0., 1., 0., 1., 0., 1., 1., 0., 0., 0., 0., 0.,\n",
       "       0., 0., 0., 1., 0., 0., 1., 0., 0., 0., 1., 1., 0., 0., 0., 1., 0.,\n",
       "       0., 0., 1., 0., 0., 0., 0., 1., 0., 1., 1., 0., 0., 0., 0., 0., 1.,\n",
       "       1., 1., 1., 0., 0., 1., 0., 0., 1., 0.])"
      ]
     },
     "execution_count": 13,
     "metadata": {},
     "output_type": "execute_result"
    }
   ],
   "source": [
    "regr.predict(val_X)"
   ]
  },
  {
   "cell_type": "code",
   "execution_count": 14,
   "id": "584b271f",
   "metadata": {
    "execution": {
     "iopub.execute_input": "2022-12-07T17:13:51.352412Z",
     "iopub.status.busy": "2022-12-07T17:13:51.351675Z",
     "iopub.status.idle": "2022-12-07T17:13:51.355858Z",
     "shell.execute_reply": "2022-12-07T17:13:51.354961Z"
    },
    "papermill": {
     "duration": 0.01172,
     "end_time": "2022-12-07T17:13:51.357828",
     "exception": false,
     "start_time": "2022-12-07T17:13:51.346108",
     "status": "completed"
    },
    "tags": []
   },
   "outputs": [],
   "source": [
    "#regr.predict([['ph', 'Hardness', 'Solids', 'Chloramines', 'Sulfate', 'Conductivity','Organic_carbon', 'Trihalomethanes', 'Turbidity']])"
   ]
  }
 ],
 "metadata": {
  "kernelspec": {
   "display_name": "Python 3",
   "language": "python",
   "name": "python3"
  },
  "language_info": {
   "codemirror_mode": {
    "name": "ipython",
    "version": 3
   },
   "file_extension": ".py",
   "mimetype": "text/x-python",
   "name": "python",
   "nbconvert_exporter": "python",
   "pygments_lexer": "ipython3",
   "version": "3.7.12"
  },
  "papermill": {
   "default_parameters": {},
   "duration": 9.899848,
   "end_time": "2022-12-07T17:13:51.881424",
   "environment_variables": {},
   "exception": null,
   "input_path": "__notebook__.ipynb",
   "output_path": "__notebook__.ipynb",
   "parameters": {},
   "start_time": "2022-12-07T17:13:41.981576",
   "version": "2.3.4"
  }
 },
 "nbformat": 4,
 "nbformat_minor": 5
}
